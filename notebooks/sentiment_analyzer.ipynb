{
 "cells": [
  {
   "cell_type": "code",
   "execution_count": 1,
   "metadata": {},
   "outputs": [],
   "source": [
    "from pyspark.sql import SparkSession\n",
    "from pyspark.sql.functions import pandas_udf\n",
    "from pyspark.sql.types import StringType\n",
    "from transformers import AutoTokenizer, AutoModelForSequenceClassification\n",
    "import torch\n",
    "import numpy as np\n",
    "from pyspark.sql.functions import udf"
   ]
  },
  {
   "cell_type": "code",
   "execution_count": 2,
   "metadata": {},
   "outputs": [],
   "source": [
    "spark = SparkSession.builder \\\n",
    "    .appName(\"SentimentCommentsYoutube\") \\\n",
    "    .master(\"spark://spark-master:7077\") \\\n",
    "    .config(\"spark.driver.bindAddress\", \"0.0.0.0\") \\\n",
    "    .config(\"spark.driver.host\", \"jupyter\") \\\n",
    "    .config(\"spark.ui.port\", \"4040\") \\\n",
    "    .config(\"spark.cores.max\", \"2\") \\\n",
    "    .config(\"spark.executor.memory\", \"512m\") \\\n",
    "    .getOrCreate()"
   ]
  },
  {
   "cell_type": "code",
   "execution_count": 3,
   "metadata": {},
   "outputs": [],
   "source": [
    "# spark = SparkSession.builder \\\n",
    "#     .appName(\"SentimentCommentsYoutube\") \\\n",
    "#     .master(\"local[*]\") \\\n",
    "#     .config(\"spark.driver.host\", \"localhost\") \\\n",
    "#     .getOrCreate()"
   ]
  },
  {
   "cell_type": "code",
   "execution_count": 4,
   "metadata": {},
   "outputs": [
    {
     "data": {
      "text/html": [
       "\n",
       "            <div>\n",
       "                <p><b>SparkSession - in-memory</b></p>\n",
       "                \n",
       "        <div>\n",
       "            <p><b>SparkContext</b></p>\n",
       "\n",
       "            <p><a href=\"http://jupyter:4040\">Spark UI</a></p>\n",
       "\n",
       "            <dl>\n",
       "              <dt>Version</dt>\n",
       "                <dd><code>v3.5.0</code></dd>\n",
       "              <dt>Master</dt>\n",
       "                <dd><code>spark://spark-master:7077</code></dd>\n",
       "              <dt>AppName</dt>\n",
       "                <dd><code>SentimentCommentsYoutube</code></dd>\n",
       "            </dl>\n",
       "        </div>\n",
       "        \n",
       "            </div>\n",
       "        "
      ],
      "text/plain": [
       "<pyspark.sql.session.SparkSession at 0x7092d1705b10>"
      ]
     },
     "execution_count": 4,
     "metadata": {},
     "output_type": "execute_result"
    }
   ],
   "source": [
    "spark"
   ]
  },
  {
   "cell_type": "code",
   "execution_count": 5,
   "metadata": {},
   "outputs": [],
   "source": [
    "# Path to the CSV in HDFS\n",
    "# hdfs_path = \"hdfs://localhost:9010/user/data/youtube_comments.csv\"\n",
    "# path to the CSV in hadoop wihtout localhost\n",
    "hadoop_path = \"hdfs://namenode:9000/user/data/youtube_comments.csv\""
   ]
  },
  {
   "cell_type": "code",
   "execution_count": 6,
   "metadata": {},
   "outputs": [],
   "source": [
    "# Read CSV from HDFS\n",
    "df = spark.read.csv(hadoop_path, header=True, inferSchema=True)"
   ]
  },
  {
   "cell_type": "code",
   "execution_count": 7,
   "metadata": {},
   "outputs": [
    {
     "name": "stdout",
     "output_type": "stream",
     "text": [
      "+-------------------------------+--------------------+--------------------+-------+\n",
      "|                           text|              author|                date|  likes|\n",
      "+-------------------------------+--------------------+--------------------+-------+\n",
      "|           Like I said in th...|            @MrBeast|2021-11-24T21:02:45Z|1058903|\n",
      "|            imagine finding 061|       @Players_1500|2024-12-22T12:12:02Z|      0|\n",
      "|晚安  希望 韓國女明星(秀智) ...|         @許閔翔-i5r|2024-12-22T10:48:47Z|      0|\n",
      "|                      Beneran😮|     @AhmadYusri-v3u|2024-12-22T10:26:03Z|      0|\n",
      "|           Who is here after...|      @Hoyadeeduroon|2024-12-22T10:08:46Z|      0|\n",
      "|           ผมกดติดตามพี่แล้ว...|     @ภูริณัฐภูมิรัง|2024-12-22T08:52:53Z|      0|\n",
      "|           I think there is ...|   @pushpakjadav4321|2024-12-22T08:06:32Z|      0|\n",
      "|                        Hey bro|    @AlzafranHanifah|2024-12-22T07:14:39Z|      0|\n",
      "|                          happy|@SengathithINTHANANY|2024-12-22T06:32:31Z|      0|\n",
      "|           1100 LINCOLN ROAD...|      @JoniXbox99325|2024-12-22T06:17:37Z|      0|\n",
      "|           Japanese audio tr...|       @ayanokoji556|2024-12-22T05:16:08Z|      1|\n",
      "|                Assalamualaikum|       @ZMEmamhossin|2024-12-22T04:34:02Z|      1|\n",
      "|                   登録しました|   @すーしーゲームズ|2024-12-22T04:31:12Z|      0|\n",
      "|                      Cómo está|    @EdrickMacea-z4o|2024-12-22T03:38:42Z|      0|\n",
      "|                             ❤❤|           @BeewarVN|2024-12-22T03:21:36Z|      0|\n",
      "|              Vai Ami khuv গরিব|         @a1b2make10|2024-12-22T02:50:44Z|      0|\n",
      "|                    Anh hàn hưf|       @UyenPhan-d1f|2024-12-22T02:08:17Z|      0|\n",
      "|                    brawl stars|       @oyunkids8420|2024-12-22T01:44:05Z|      0|\n",
      "|           Rechaza el princi...|@WilfredoAntonioL...|2024-12-22T01:22:57Z|      0|\n",
      "|           Si no es tanto ab...|@WilfredoAntonioL...|2024-12-22T01:20:38Z|      1|\n",
      "+-------------------------------+--------------------+--------------------+-------+\n",
      "only showing top 20 rows\n",
      "\n"
     ]
    }
   ],
   "source": [
    "df.show()"
   ]
  },
  {
   "cell_type": "code",
   "execution_count": 8,
   "metadata": {},
   "outputs": [
    {
     "name": "stderr",
     "output_type": "stream",
     "text": [
      "/opt/conda/lib/python3.11/site-packages/torch/_utils.py:776: UserWarning: TypedStorage is deprecated. It will be removed in the future and UntypedStorage will be the only storage class. This should only matter to you if you are using storages directly.  To access UntypedStorage directly, use tensor.untyped_storage() instead of tensor.storage()\n",
      "  return self.fget.__get__(instance, owner)()\n",
      "Some weights of the model checkpoint at cardiffnlp/twitter-roberta-base-sentiment-latest were not used when initializing RobertaForSequenceClassification: ['roberta.pooler.dense.bias', 'roberta.pooler.dense.weight']\n",
      "- This IS expected if you are initializing RobertaForSequenceClassification from the checkpoint of a model trained on another task or with another architecture (e.g. initializing a BertForSequenceClassification model from a BertForPreTraining model).\n",
      "- This IS NOT expected if you are initializing RobertaForSequenceClassification from the checkpoint of a model that you expect to be exactly identical (initializing a BertForSequenceClassification model from a BertForSequenceClassification model).\n"
     ]
    }
   ],
   "source": [
    "# Initialize sentiment analysis model\n",
    "tokenizer = AutoTokenizer.from_pretrained(\"cardiffnlp/twitter-roberta-base-sentiment-latest\")\n",
    "model = AutoModelForSequenceClassification.from_pretrained(\"cardiffnlp/twitter-roberta-base-sentiment-latest\")"
   ]
  },
  {
   "cell_type": "code",
   "execution_count": 9,
   "metadata": {},
   "outputs": [],
   "source": [
    "def analyze_sentiment_standalone(text, tokenizer, model):\n",
    "    inputs = tokenizer(text, return_tensors=\"pt\", truncation=True, max_length=512)\n",
    "    outputs = model(**inputs)\n",
    "    predictions = torch.nn.functional.softmax(outputs.logits, dim=-1)\n",
    "    sentiment_score = predictions.detach().numpy()[0]\n",
    "    sentiment_map = {0: \"negative\", 1: \"neutral\", 2: \"positive\"}\n",
    "    return sentiment_map[np.argmax(sentiment_score)]"
   ]
  },
  {
   "cell_type": "code",
   "execution_count": 10,
   "metadata": {},
   "outputs": [],
   "source": [
    "# Create UDF for sentiment analysis\n",
    "sentiment_udf = udf(lambda text: analyze_sentiment_standalone(text, tokenizer, model), StringType())"
   ]
  },
  {
   "cell_type": "code",
   "execution_count": 11,
   "metadata": {},
   "outputs": [],
   "source": [
    "# Apply sentiment analysis\n",
    "results = df.withColumn(\"sentiment\", sentiment_udf(\"text\"))"
   ]
  },
  {
   "cell_type": "code",
   "execution_count": 12,
   "metadata": {},
   "outputs": [
    {
     "name": "stdout",
     "output_type": "stream",
     "text": [
      "+-------------------------------------------------------------------------------------+---------+\n",
      "|text                                                                                 |sentiment|\n",
      "+-------------------------------------------------------------------------------------+---------+\n",
      "|Like I said in the video, subscribe if you haven’t already and you could win $10,000!|positive |\n",
      "|imagine finding 061                                                                  |neutral  |\n",
      "|晚安  希望 韓國女明星(秀智) 和 (潤娥) 可以嫁個好男人 一輩子幸福+458（每天情人節快樂）|neutral  |\n",
      "|Beneran😮                                                                            |neutral  |\n",
      "|Who is here after watching Ronald&#39;s video 🙋🏻‍♀️❤                               |positive |\n",
      "|ผมกดติดตามพี่แล้วครับผมกดติดตามพี่แล้วนะครับจริงๆครับจริงๆ                           |neutral  |\n",
      "|I think there is a lana Rhodes ❤                                                     |positive |\n",
      "|Hey bro                                                                              |neutral  |\n",
      "|happy                                                                                |positive |\n",
      "|1100 LINCOLN ROAD APARTMENT 5 BETTENDORF IOWA                                        |neutral  |\n",
      "|Japanese audio track NARUTO❤                                                         |positive |\n",
      "|Assalamualaikum                                                                      |neutral  |\n",
      "|登録しました                                                                         |neutral  |\n",
      "|Cómo está                                                                            |neutral  |\n",
      "|❤❤                                                                                   |positive |\n",
      "|Vai Ami khuv গরিব                                                                    |neutral  |\n",
      "|Anh hàn hưf                                                                          |neutral  |\n",
      "|brawl stars                                                                          |neutral  |\n",
      "|Rechaza el principio lo estoy jugando de hace 1 hora                                 |neutral  |\n",
      "|Si no es tanto abuso no                                                              |neutral  |\n",
      "+-------------------------------------------------------------------------------------+---------+\n",
      "only showing top 20 rows\n",
      "\n"
     ]
    }
   ],
   "source": [
    "# Show results\n",
    "results.select(\"text\", \"sentiment\").show(truncate=False)"
   ]
  },
  {
   "cell_type": "code",
   "execution_count": null,
   "metadata": {},
   "outputs": [],
   "source": [
    "# results.write.csv(\"hdfs://localhost:9010/user/data/youtube_comments_sentiment.csv\", header=True)\n",
    "results.write.csv(\"hdfs://namenode:9000/user/data/sentiment_counts.csv\", header=True)"
   ]
  },
  {
   "cell_type": "code",
   "execution_count": 38,
   "metadata": {},
   "outputs": [],
   "source": [
    "# Stop SparkSession\n",
    "spark.stop()"
   ]
  }
 ],
 "metadata": {
  "kernelspec": {
   "display_name": "spark_env",
   "language": "python",
   "name": "python3"
  },
  "language_info": {
   "codemirror_mode": {
    "name": "ipython",
    "version": 3
   },
   "file_extension": ".py",
   "mimetype": "text/x-python",
   "name": "python",
   "nbconvert_exporter": "python",
   "pygments_lexer": "ipython3",
   "version": "3.10.16"
  }
 },
 "nbformat": 4,
 "nbformat_minor": 4
}
